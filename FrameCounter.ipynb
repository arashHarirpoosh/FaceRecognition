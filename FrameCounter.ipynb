{
  "nbformat": 4,
  "nbformat_minor": 0,
  "metadata": {
    "colab": {
      "name": "FrameCounter.ipynb",
      "provenance": [],
      "authorship_tag": "ABX9TyNzy9DSV2IQwze+o06fTvfk",
      "include_colab_link": true
    },
    "kernelspec": {
      "name": "python3",
      "display_name": "Python 3"
    },
    "language_info": {
      "name": "python"
    }
  },
  "cells": [
    {
      "cell_type": "markdown",
      "metadata": {
        "id": "view-in-github",
        "colab_type": "text"
      },
      "source": [
        "<a href=\"https://colab.research.google.com/github/arashHarirpoosh/FaceRecognition/blob/main/FrameCounter.ipynb\" target=\"_parent\"><img src=\"https://colab.research.google.com/assets/colab-badge.svg\" alt=\"Open In Colab\"/></a>"
      ]
    },
    {
      "cell_type": "code",
      "metadata": {
        "id": "4egGSQCALTHH"
      },
      "source": [
        "\n",
        "import os\n",
        "import json"
      ],
      "execution_count": 1,
      "outputs": []
    },
    {
      "cell_type": "code",
      "metadata": {
        "id": "5CpsZ5-fLmv2"
      },
      "source": [
        "def numOfFramesInDir(addr):\n",
        "    counter = 0\n",
        "    for r, d, fi in os.walk(addr):\n",
        "        counter += len(fi)\n",
        "    return counter"
      ],
      "execution_count": 2,
      "outputs": []
    },
    {
      "cell_type": "code",
      "metadata": {
        "colab": {
          "base_uri": "https://localhost:8080/"
        },
        "id": "8xCe0rFaLrX1",
        "outputId": "5e660042-25b5-43b2-fcb3-6e7a830495a2"
      },
      "source": [
        "from google.colab import drive\n",
        "drive.mount('/content/drive')"
      ],
      "execution_count": 3,
      "outputs": [
        {
          "output_type": "stream",
          "name": "stdout",
          "text": [
            "Mounted at /content/drive\n"
          ]
        }
      ]
    },
    {
      "cell_type": "code",
      "metadata": {
        "colab": {
          "base_uri": "https://localhost:8080/"
        },
        "id": "eCku39PhLnYR",
        "outputId": "5f623070-336a-4bf2-c4eb-8feb86535537"
      },
      "source": [
        "\n",
        "if __name__ == '__main__':\n",
        "\n",
        "    base_addr = 'drive/MyDrive/Frames'\n",
        "    frame_counts = {\n",
        "        'unLabeled': 0,\n",
        "        'labeled': 0\n",
        "    }\n",
        "    num_of_sources = len(os.listdir(base_addr))\n",
        "    source_digits = len(str(num_of_sources))\n",
        "\n",
        "    # selected_channels = [1]\n",
        "    # selected_videos = [6]\n",
        "    for root, dirs, files in os.walk(base_addr):\n",
        "        root_list = root.split('/')\n",
        "\n",
        "        # if root_list[-1] == 'unlabeled' and int(root_list[-2]) in selected_videos and \\\n",
        "        #         int(root_list[-3]) in selected_channels:\n",
        "        if root_list[-1] == 'unlabeled':\n",
        "            # print(root, dirs)\n",
        "            for f in dirs:\n",
        "                file_addr = os.path.join(root, f)\n",
        "                # print(file_addr)\n",
        "                frame_counts['unLabeled'] += len(os.listdir(file_addr))\n",
        "        if root_list[-1] == 'labeled':\n",
        "            vid_counted = False\n",
        "            channel_num = root_list[-3]\n",
        "            for f in dirs:\n",
        "                file_addr = os.path.join(root, f)\n",
        "                if f not in frame_counts.keys():\n",
        "                    frame_counts[f] = {\n",
        "                        'numOfFrames': 0,\n",
        "                        'numOfVideos': 0,\n",
        "                        'Channels': []\n",
        "                    }\n",
        "\n",
        "                # numOfFramesInDir(file_addr)\n",
        "                num = numOfFramesInDir(file_addr)\n",
        "                frame_counts[f]['numOfFrames'] += num\n",
        "                frame_counts['labeled'] += num\n",
        "                if not vid_counted:\n",
        "                    frame_counts[f]['numOfVideos'] += 1\n",
        "                if channel_num not in frame_counts[f]['Channels']:\n",
        "                    frame_counts[f]['Channels'].append(channel_num)\n",
        "\n",
        "\n",
        "    # print(frame_counts)\n",
        "    print(json.dumps(frame_counts, indent=4, sort_keys=True))"
      ],
      "execution_count": 6,
      "outputs": [
        {
          "output_type": "stream",
          "name": "stdout",
          "text": [
            "{\n",
            "    \"Anderson_Cooper\": {\n",
            "        \"Channels\": [\n",
            "            \"001\"\n",
            "        ],\n",
            "        \"numOfFrames\": 9430,\n",
            "        \"numOfVideos\": 2\n",
            "    },\n",
            "    \"Barack_Obama\": {\n",
            "        \"Channels\": [\n",
            "            \"001\"\n",
            "        ],\n",
            "        \"numOfFrames\": 251,\n",
            "        \"numOfVideos\": 1\n",
            "    },\n",
            "    \"Chris_Cuomo\": {\n",
            "        \"Channels\": [\n",
            "            \"001\"\n",
            "        ],\n",
            "        \"numOfFrames\": 191,\n",
            "        \"numOfVideos\": 1\n",
            "    },\n",
            "    \"Donald_Trump\": {\n",
            "        \"Channels\": [\n",
            "            \"001\"\n",
            "        ],\n",
            "        \"numOfFrames\": 7925,\n",
            "        \"numOfVideos\": 3\n",
            "    },\n",
            "    \"Gavin_Newsom\": {\n",
            "        \"Channels\": [\n",
            "            \"001\"\n",
            "        ],\n",
            "        \"numOfFrames\": 4778,\n",
            "        \"numOfVideos\": 1\n",
            "    },\n",
            "    \"Jeff_Bezos\": {\n",
            "        \"Channels\": [\n",
            "            \"001\"\n",
            "        ],\n",
            "        \"numOfFrames\": 521,\n",
            "        \"numOfVideos\": 2\n",
            "    },\n",
            "    \"Joe_Biden\": {\n",
            "        \"Channels\": [\n",
            "            \"001\"\n",
            "        ],\n",
            "        \"numOfFrames\": 1572,\n",
            "        \"numOfVideos\": 2\n",
            "    },\n",
            "    \"Van_Jones\": {\n",
            "        \"Channels\": [\n",
            "            \"001\"\n",
            "        ],\n",
            "        \"numOfFrames\": 2372,\n",
            "        \"numOfVideos\": 2\n",
            "    },\n",
            "    \"labeled\": 27040,\n",
            "    \"unLabeled\": 16819\n",
            "}\n"
          ]
        }
      ]
    },
    {
      "cell_type": "code",
      "metadata": {
        "colab": {
          "base_uri": "https://localhost:8080/"
        },
        "id": "C7YaMHoBMz06",
        "outputId": "42930056-26aa-41bc-d180-f2d088a0f58f"
      },
      "source": [
        "print(f'Number of detected identities: {len(frame_counts.keys()) - 2}')\n",
        "labeled_img = frame_counts['labeled']\n",
        "unlabeled_img = frame_counts['unLabeled']\n",
        "print(f'Number of labeled imgs: {labeled_img} \\nNumer of unlabeled imgs: {unlabeled_img}')"
      ],
      "execution_count": 13,
      "outputs": [
        {
          "output_type": "stream",
          "name": "stdout",
          "text": [
            "Number of detected identities: 8\n",
            "Number of labeled imgs: 27040 \n",
            "Numer of unlabeled imgs: 16819\n"
          ]
        }
      ]
    },
    {
      "cell_type": "code",
      "metadata": {
        "id": "GQkGF1NsNqkM"
      },
      "source": [
        ""
      ],
      "execution_count": null,
      "outputs": []
    }
  ]
}