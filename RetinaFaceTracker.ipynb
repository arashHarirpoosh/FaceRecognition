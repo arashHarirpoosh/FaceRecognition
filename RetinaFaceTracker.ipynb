{
  "nbformat": 4,
  "nbformat_minor": 0,
  "metadata": {
    "colab": {
      "name": "RetinaFaceTracker.ipynb",
      "provenance": [],
      "collapsed_sections": [
        "q2OVpq8Xrg74",
        "OMGW_3GxZweU",
        "8d2cUCXDzd_s"
      ],
      "authorship_tag": "ABX9TyMWr9zv/5T6lZ98Ch9c/apM",
      "include_colab_link": true
    },
    "kernelspec": {
      "name": "python3",
      "display_name": "Python 3"
    },
    "language_info": {
      "name": "python"
    }
  },
  "cells": [
    {
      "cell_type": "markdown",
      "metadata": {
        "id": "view-in-github",
        "colab_type": "text"
      },
      "source": [
        "<a href=\"https://colab.research.google.com/github/arashHarirpoosh/FaceRecognition/blob/main/RetinaFaceTracker.ipynb\" target=\"_parent\"><img src=\"https://colab.research.google.com/assets/colab-badge.svg\" alt=\"Open In Colab\"/></a>"
      ]
    },
    {
      "cell_type": "markdown",
      "metadata": {
        "id": "q2OVpq8Xrg74"
      },
      "source": [
        "# Import lib's"
      ]
    },
    {
      "cell_type": "code",
      "metadata": {
        "colab": {
          "base_uri": "https://localhost:8080/",
          "height": 1000
        },
        "id": "4o4dKRX9Vbjx",
        "outputId": "498e5a39-59f8-4d9b-d6bd-430eaa70cc2c"
      },
      "source": [
        "!pip install pytube\n",
        "!pip install --upgrade youtube-dl\n",
        "!pip install 'h5py==2.10.0' --force-reinstall\n",
        "!pip install retinaface\n",
        "!pip install deepface"
      ],
      "execution_count": null,
      "outputs": [
        {
          "output_type": "stream",
          "text": [
            "Requirement already satisfied: pytube in /usr/local/lib/python3.7/dist-packages (11.0.1)\n",
            "Requirement already satisfied: youtube-dl in /usr/local/lib/python3.7/dist-packages (2021.6.6)\n",
            "Collecting h5py==2.10.0\n",
            "  Using cached h5py-2.10.0-cp37-cp37m-manylinux1_x86_64.whl (2.9 MB)\n",
            "Collecting six\n",
            "  Using cached six-1.16.0-py2.py3-none-any.whl (11 kB)\n",
            "Collecting numpy>=1.7\n",
            "  Using cached numpy-1.21.2-cp37-cp37m-manylinux_2_12_x86_64.manylinux2010_x86_64.whl (15.7 MB)\n",
            "Installing collected packages: six, numpy, h5py\n",
            "  Attempting uninstall: six\n",
            "    Found existing installation: six 1.16.0\n",
            "    Uninstalling six-1.16.0:\n",
            "      Successfully uninstalled six-1.16.0\n",
            "  Attempting uninstall: numpy\n",
            "    Found existing installation: numpy 1.21.2\n",
            "    Uninstalling numpy-1.21.2:\n",
            "      Successfully uninstalled numpy-1.21.2\n",
            "  Attempting uninstall: h5py\n",
            "    Found existing installation: h5py 2.10.0\n",
            "    Uninstalling h5py-2.10.0:\n",
            "      Successfully uninstalled h5py-2.10.0\n",
            "\u001b[31mERROR: pip's dependency resolver does not currently take into account all the packages that are installed. This behaviour is the source of the following dependency conflicts.\n",
            "tensorflow-probability 0.13.0 requires gast>=0.3.2, but you have gast 0.2.2 which is incompatible.\n",
            "google-colab 1.0.0 requires requests~=2.23.0, but you have requests 2.25.1 which is incompatible.\n",
            "google-colab 1.0.0 requires six~=1.15.0, but you have six 1.16.0 which is incompatible.\n",
            "datascience 0.10.6 requires folium==0.2.1, but you have folium 0.8.3 which is incompatible.\n",
            "albumentations 0.1.12 requires imgaug<0.2.7,>=0.2.5, but you have imgaug 0.2.9 which is incompatible.\u001b[0m\n",
            "Successfully installed h5py-2.10.0 numpy-1.21.2 six-1.16.0\n"
          ],
          "name": "stdout"
        },
        {
          "output_type": "display_data",
          "data": {
            "application/vnd.colab-display-data+json": {
              "pip_warning": {
                "packages": [
                  "h5py",
                  "numpy",
                  "six"
                ]
              }
            }
          },
          "metadata": {}
        },
        {
          "output_type": "stream",
          "text": [
            "Requirement already satisfied: retinaface in /usr/local/lib/python3.7/dist-packages (0.0.6)\n",
            "Requirement already satisfied: utilpack in /usr/local/lib/python3.7/dist-packages (from retinaface) (2.0.1)\n",
            "Requirement already satisfied: tensorflow==2.1.0 in /usr/local/lib/python3.7/dist-packages (from retinaface) (2.1.0)\n",
            "Requirement already satisfied: astor>=0.6.0 in /usr/local/lib/python3.7/dist-packages (from tensorflow==2.1.0->retinaface) (0.8.1)\n",
            "Requirement already satisfied: keras-applications>=1.0.8 in /usr/local/lib/python3.7/dist-packages (from tensorflow==2.1.0->retinaface) (1.0.8)\n",
            "Requirement already satisfied: wrapt>=1.11.1 in /usr/local/lib/python3.7/dist-packages (from tensorflow==2.1.0->retinaface) (1.12.1)\n",
            "Requirement already satisfied: six>=1.12.0 in /usr/local/lib/python3.7/dist-packages (from tensorflow==2.1.0->retinaface) (1.16.0)\n",
            "Requirement already satisfied: scipy==1.4.1 in /usr/local/lib/python3.7/dist-packages (from tensorflow==2.1.0->retinaface) (1.4.1)\n",
            "Requirement already satisfied: tensorboard<2.2.0,>=2.1.0 in /usr/local/lib/python3.7/dist-packages (from tensorflow==2.1.0->retinaface) (2.1.1)\n",
            "Requirement already satisfied: tensorflow-estimator<2.2.0,>=2.1.0rc0 in /usr/local/lib/python3.7/dist-packages (from tensorflow==2.1.0->retinaface) (2.1.0)\n",
            "Requirement already satisfied: google-pasta>=0.1.6 in /usr/local/lib/python3.7/dist-packages (from tensorflow==2.1.0->retinaface) (0.2.0)\n",
            "Requirement already satisfied: termcolor>=1.1.0 in /usr/local/lib/python3.7/dist-packages (from tensorflow==2.1.0->retinaface) (1.1.0)\n",
            "Requirement already satisfied: keras-preprocessing>=1.1.0 in /usr/local/lib/python3.7/dist-packages (from tensorflow==2.1.0->retinaface) (1.1.2)\n",
            "Requirement already satisfied: gast==0.2.2 in /usr/local/lib/python3.7/dist-packages (from tensorflow==2.1.0->retinaface) (0.2.2)\n",
            "Requirement already satisfied: wheel>=0.26 in /usr/local/lib/python3.7/dist-packages (from tensorflow==2.1.0->retinaface) (0.37.0)\n",
            "Requirement already satisfied: grpcio>=1.8.6 in /usr/local/lib/python3.7/dist-packages (from tensorflow==2.1.0->retinaface) (1.39.0)\n",
            "Requirement already satisfied: absl-py>=0.7.0 in /usr/local/lib/python3.7/dist-packages (from tensorflow==2.1.0->retinaface) (0.12.0)\n",
            "Requirement already satisfied: opt-einsum>=2.3.2 in /usr/local/lib/python3.7/dist-packages (from tensorflow==2.1.0->retinaface) (3.3.0)\n",
            "Requirement already satisfied: protobuf>=3.8.0 in /usr/local/lib/python3.7/dist-packages (from tensorflow==2.1.0->retinaface) (3.17.3)\n",
            "Requirement already satisfied: numpy<2.0,>=1.16.0 in /usr/local/lib/python3.7/dist-packages (from tensorflow==2.1.0->retinaface) (1.21.2)\n",
            "Requirement already satisfied: h5py in /usr/local/lib/python3.7/dist-packages (from keras-applications>=1.0.8->tensorflow==2.1.0->retinaface) (2.10.0)\n",
            "Requirement already satisfied: google-auth<2,>=1.6.3 in /usr/local/lib/python3.7/dist-packages (from tensorboard<2.2.0,>=2.1.0->tensorflow==2.1.0->retinaface) (1.34.0)\n",
            "Requirement already satisfied: werkzeug>=0.11.15 in /usr/local/lib/python3.7/dist-packages (from tensorboard<2.2.0,>=2.1.0->tensorflow==2.1.0->retinaface) (2.0.1)\n",
            "Requirement already satisfied: requests<3,>=2.21.0 in /usr/local/lib/python3.7/dist-packages (from tensorboard<2.2.0,>=2.1.0->tensorflow==2.1.0->retinaface) (2.25.1)\n",
            "Requirement already satisfied: markdown>=2.6.8 in /usr/local/lib/python3.7/dist-packages (from tensorboard<2.2.0,>=2.1.0->tensorflow==2.1.0->retinaface) (3.3.4)\n",
            "Requirement already satisfied: setuptools>=41.0.0 in /usr/local/lib/python3.7/dist-packages (from tensorboard<2.2.0,>=2.1.0->tensorflow==2.1.0->retinaface) (57.4.0)\n",
            "Requirement already satisfied: google-auth-oauthlib<0.5,>=0.4.1 in /usr/local/lib/python3.7/dist-packages (from tensorboard<2.2.0,>=2.1.0->tensorflow==2.1.0->retinaface) (0.4.5)\n",
            "Requirement already satisfied: rsa<5,>=3.1.4 in /usr/local/lib/python3.7/dist-packages (from google-auth<2,>=1.6.3->tensorboard<2.2.0,>=2.1.0->tensorflow==2.1.0->retinaface) (4.7.2)\n",
            "Requirement already satisfied: cachetools<5.0,>=2.0.0 in /usr/local/lib/python3.7/dist-packages (from google-auth<2,>=1.6.3->tensorboard<2.2.0,>=2.1.0->tensorflow==2.1.0->retinaface) (4.2.2)\n",
            "Requirement already satisfied: pyasn1-modules>=0.2.1 in /usr/local/lib/python3.7/dist-packages (from google-auth<2,>=1.6.3->tensorboard<2.2.0,>=2.1.0->tensorflow==2.1.0->retinaface) (0.2.8)\n",
            "Requirement already satisfied: requests-oauthlib>=0.7.0 in /usr/local/lib/python3.7/dist-packages (from google-auth-oauthlib<0.5,>=0.4.1->tensorboard<2.2.0,>=2.1.0->tensorflow==2.1.0->retinaface) (1.3.0)\n",
            "Requirement already satisfied: importlib-metadata in /usr/local/lib/python3.7/dist-packages (from markdown>=2.6.8->tensorboard<2.2.0,>=2.1.0->tensorflow==2.1.0->retinaface) (4.6.4)\n",
            "Requirement already satisfied: pyasn1<0.5.0,>=0.4.6 in /usr/local/lib/python3.7/dist-packages (from pyasn1-modules>=0.2.1->google-auth<2,>=1.6.3->tensorboard<2.2.0,>=2.1.0->tensorflow==2.1.0->retinaface) (0.4.8)\n",
            "Requirement already satisfied: idna<3,>=2.5 in /usr/local/lib/python3.7/dist-packages (from requests<3,>=2.21.0->tensorboard<2.2.0,>=2.1.0->tensorflow==2.1.0->retinaface) (2.10)\n",
            "Requirement already satisfied: chardet<5,>=3.0.2 in /usr/local/lib/python3.7/dist-packages (from requests<3,>=2.21.0->tensorboard<2.2.0,>=2.1.0->tensorflow==2.1.0->retinaface) (3.0.4)\n",
            "Requirement already satisfied: certifi>=2017.4.17 in /usr/local/lib/python3.7/dist-packages (from requests<3,>=2.21.0->tensorboard<2.2.0,>=2.1.0->tensorflow==2.1.0->retinaface) (2021.5.30)\n",
            "Requirement already satisfied: urllib3<1.27,>=1.21.1 in /usr/local/lib/python3.7/dist-packages (from requests<3,>=2.21.0->tensorboard<2.2.0,>=2.1.0->tensorflow==2.1.0->retinaface) (1.24.3)\n",
            "Requirement already satisfied: oauthlib>=3.0.0 in /usr/local/lib/python3.7/dist-packages (from requests-oauthlib>=0.7.0->google-auth-oauthlib<0.5,>=0.4.1->tensorboard<2.2.0,>=2.1.0->tensorflow==2.1.0->retinaface) (3.1.1)\n",
            "Requirement already satisfied: zipp>=0.5 in /usr/local/lib/python3.7/dist-packages (from importlib-metadata->markdown>=2.6.8->tensorboard<2.2.0,>=2.1.0->tensorflow==2.1.0->retinaface) (3.5.0)\n",
            "Requirement already satisfied: typing-extensions>=3.6.4 in /usr/local/lib/python3.7/dist-packages (from importlib-metadata->markdown>=2.6.8->tensorboard<2.2.0,>=2.1.0->tensorflow==2.1.0->retinaface) (3.7.4.3)\n",
            "Requirement already satisfied: Pillow==8.3.1 in /usr/local/lib/python3.7/dist-packages (from utilpack->retinaface) (8.3.1)\n",
            "Requirement already satisfied: gunicorn==20.1.0 in /usr/local/lib/python3.7/dist-packages (from utilpack->retinaface) (20.1.0)\n",
            "Requirement already satisfied: opencv-python==4.5.2.54 in /usr/local/lib/python3.7/dist-packages (from utilpack->retinaface) (4.5.2.54)\n",
            "Requirement already satisfied: shapely==1.7.1 in /usr/local/lib/python3.7/dist-packages (from utilpack->retinaface) (1.7.1)\n",
            "Requirement already satisfied: ipywidgets==7.6.3 in /usr/local/lib/python3.7/dist-packages (from utilpack->retinaface) (7.6.3)\n",
            "Requirement already satisfied: pycryptodome==3.10.1 in /usr/local/lib/python3.7/dist-packages (from utilpack->retinaface) (3.10.1)\n",
            "Requirement already satisfied: tqdm==4.61.2 in /usr/local/lib/python3.7/dist-packages (from utilpack->retinaface) (4.61.2)\n",
            "Requirement already satisfied: pdfrw==0.4 in /usr/local/lib/python3.7/dist-packages (from utilpack->retinaface) (0.4)\n",
            "Requirement already satisfied: PyMySQL==1.0.2 in /usr/local/lib/python3.7/dist-packages (from utilpack->retinaface) (1.0.2)\n",
            "Requirement already satisfied: Flask==2.0.1 in /usr/local/lib/python3.7/dist-packages (from utilpack->retinaface) (2.0.1)\n",
            "Requirement already satisfied: matplotlib==3.3.4 in /usr/local/lib/python3.7/dist-packages (from utilpack->retinaface) (3.3.4)\n",
            "Requirement already satisfied: sklearn==0.0 in /usr/local/lib/python3.7/dist-packages (from utilpack->retinaface) (0.0)\n",
            "Requirement already satisfied: slack-sdk==3.7.0 in /usr/local/lib/python3.7/dist-packages (from utilpack->retinaface) (3.7.0)\n",
            "Requirement already satisfied: pandas==1.1.5 in /usr/local/lib/python3.7/dist-packages (from utilpack->retinaface) (1.1.5)\n",
            "Requirement already satisfied: click>=7.1.2 in /usr/local/lib/python3.7/dist-packages (from Flask==2.0.1->utilpack->retinaface) (7.1.2)\n",
            "Requirement already satisfied: Jinja2>=3.0 in /usr/local/lib/python3.7/dist-packages (from Flask==2.0.1->utilpack->retinaface) (3.0.1)\n",
            "Requirement already satisfied: itsdangerous>=2.0 in /usr/local/lib/python3.7/dist-packages (from Flask==2.0.1->utilpack->retinaface) (2.0.1)\n",
            "Requirement already satisfied: ipython>=4.0.0 in /usr/local/lib/python3.7/dist-packages (from ipywidgets==7.6.3->utilpack->retinaface) (5.5.0)\n",
            "Requirement already satisfied: nbformat>=4.2.0 in /usr/local/lib/python3.7/dist-packages (from ipywidgets==7.6.3->utilpack->retinaface) (5.1.3)\n",
            "Requirement already satisfied: jupyterlab-widgets>=1.0.0 in /usr/local/lib/python3.7/dist-packages (from ipywidgets==7.6.3->utilpack->retinaface) (1.0.0)\n",
            "Requirement already satisfied: widgetsnbextension~=3.5.0 in /usr/local/lib/python3.7/dist-packages (from ipywidgets==7.6.3->utilpack->retinaface) (3.5.1)\n",
            "Requirement already satisfied: traitlets>=4.3.1 in /usr/local/lib/python3.7/dist-packages (from ipywidgets==7.6.3->utilpack->retinaface) (5.0.5)\n",
            "Requirement already satisfied: ipykernel>=4.5.1 in /usr/local/lib/python3.7/dist-packages (from ipywidgets==7.6.3->utilpack->retinaface) (4.10.1)\n",
            "Requirement already satisfied: cycler>=0.10 in /usr/local/lib/python3.7/dist-packages (from matplotlib==3.3.4->utilpack->retinaface) (0.10.0)\n",
            "Requirement already satisfied: pyparsing!=2.0.4,!=2.1.2,!=2.1.6,>=2.0.3 in /usr/local/lib/python3.7/dist-packages (from matplotlib==3.3.4->utilpack->retinaface) (2.4.7)\n",
            "Requirement already satisfied: kiwisolver>=1.0.1 in /usr/local/lib/python3.7/dist-packages (from matplotlib==3.3.4->utilpack->retinaface) (1.3.1)\n",
            "Requirement already satisfied: python-dateutil>=2.1 in /usr/local/lib/python3.7/dist-packages (from matplotlib==3.3.4->utilpack->retinaface) (2.8.2)\n",
            "Requirement already satisfied: pytz>=2017.2 in /usr/local/lib/python3.7/dist-packages (from pandas==1.1.5->utilpack->retinaface) (2018.9)\n",
            "Requirement already satisfied: scikit-learn in /usr/local/lib/python3.7/dist-packages (from sklearn==0.0->utilpack->retinaface) (0.22.2.post1)\n",
            "Requirement already satisfied: jupyter-client in /usr/local/lib/python3.7/dist-packages (from ipykernel>=4.5.1->ipywidgets==7.6.3->utilpack->retinaface) (5.3.5)\n",
            "Requirement already satisfied: tornado>=4.0 in /usr/local/lib/python3.7/dist-packages (from ipykernel>=4.5.1->ipywidgets==7.6.3->utilpack->retinaface) (5.1.1)\n",
            "Requirement already satisfied: pickleshare in /usr/local/lib/python3.7/dist-packages (from ipython>=4.0.0->ipywidgets==7.6.3->utilpack->retinaface) (0.7.5)\n",
            "Requirement already satisfied: decorator in /usr/local/lib/python3.7/dist-packages (from ipython>=4.0.0->ipywidgets==7.6.3->utilpack->retinaface) (4.4.2)\n",
            "Requirement already satisfied: pygments in /usr/local/lib/python3.7/dist-packages (from ipython>=4.0.0->ipywidgets==7.6.3->utilpack->retinaface) (2.6.1)\n",
            "Requirement already satisfied: prompt-toolkit<2.0.0,>=1.0.4 in /usr/local/lib/python3.7/dist-packages (from ipython>=4.0.0->ipywidgets==7.6.3->utilpack->retinaface) (1.0.18)\n",
            "Requirement already satisfied: pexpect in /usr/local/lib/python3.7/dist-packages (from ipython>=4.0.0->ipywidgets==7.6.3->utilpack->retinaface) (4.8.0)\n",
            "Requirement already satisfied: simplegeneric>0.8 in /usr/local/lib/python3.7/dist-packages (from ipython>=4.0.0->ipywidgets==7.6.3->utilpack->retinaface) (0.8.1)\n",
            "Requirement already satisfied: MarkupSafe>=2.0 in /usr/local/lib/python3.7/dist-packages (from Jinja2>=3.0->Flask==2.0.1->utilpack->retinaface) (2.0.1)\n",
            "Requirement already satisfied: jupyter-core in /usr/local/lib/python3.7/dist-packages (from nbformat>=4.2.0->ipywidgets==7.6.3->utilpack->retinaface) (4.7.1)\n",
            "Requirement already satisfied: jsonschema!=2.5.0,>=2.4 in /usr/local/lib/python3.7/dist-packages (from nbformat>=4.2.0->ipywidgets==7.6.3->utilpack->retinaface) (2.6.0)\n",
            "Requirement already satisfied: ipython-genutils in /usr/local/lib/python3.7/dist-packages (from nbformat>=4.2.0->ipywidgets==7.6.3->utilpack->retinaface) (0.2.0)\n",
            "Requirement already satisfied: wcwidth in /usr/local/lib/python3.7/dist-packages (from prompt-toolkit<2.0.0,>=1.0.4->ipython>=4.0.0->ipywidgets==7.6.3->utilpack->retinaface) (0.2.5)\n",
            "Requirement already satisfied: notebook>=4.4.1 in /usr/local/lib/python3.7/dist-packages (from widgetsnbextension~=3.5.0->ipywidgets==7.6.3->utilpack->retinaface) (5.3.1)\n",
            "Requirement already satisfied: Send2Trash in /usr/local/lib/python3.7/dist-packages (from notebook>=4.4.1->widgetsnbextension~=3.5.0->ipywidgets==7.6.3->utilpack->retinaface) (1.8.0)\n",
            "Requirement already satisfied: terminado>=0.8.1 in /usr/local/lib/python3.7/dist-packages (from notebook>=4.4.1->widgetsnbextension~=3.5.0->ipywidgets==7.6.3->utilpack->retinaface) (0.11.0)\n",
            "Requirement already satisfied: nbconvert in /usr/local/lib/python3.7/dist-packages (from notebook>=4.4.1->widgetsnbextension~=3.5.0->ipywidgets==7.6.3->utilpack->retinaface) (5.6.1)\n",
            "Requirement already satisfied: pyzmq>=13 in /usr/local/lib/python3.7/dist-packages (from jupyter-client->ipykernel>=4.5.1->ipywidgets==7.6.3->utilpack->retinaface) (22.2.1)\n",
            "Requirement already satisfied: ptyprocess in /usr/local/lib/python3.7/dist-packages (from terminado>=0.8.1->notebook>=4.4.1->widgetsnbextension~=3.5.0->ipywidgets==7.6.3->utilpack->retinaface) (0.7.0)\n",
            "Requirement already satisfied: bleach in /usr/local/lib/python3.7/dist-packages (from nbconvert->notebook>=4.4.1->widgetsnbextension~=3.5.0->ipywidgets==7.6.3->utilpack->retinaface) (4.0.0)\n",
            "Requirement already satisfied: pandocfilters>=1.4.1 in /usr/local/lib/python3.7/dist-packages (from nbconvert->notebook>=4.4.1->widgetsnbextension~=3.5.0->ipywidgets==7.6.3->utilpack->retinaface) (1.4.3)\n",
            "Requirement already satisfied: mistune<2,>=0.8.1 in /usr/local/lib/python3.7/dist-packages (from nbconvert->notebook>=4.4.1->widgetsnbextension~=3.5.0->ipywidgets==7.6.3->utilpack->retinaface) (0.8.4)\n",
            "Requirement already satisfied: entrypoints>=0.2.2 in /usr/local/lib/python3.7/dist-packages (from nbconvert->notebook>=4.4.1->widgetsnbextension~=3.5.0->ipywidgets==7.6.3->utilpack->retinaface) (0.3)\n",
            "Requirement already satisfied: defusedxml in /usr/local/lib/python3.7/dist-packages (from nbconvert->notebook>=4.4.1->widgetsnbextension~=3.5.0->ipywidgets==7.6.3->utilpack->retinaface) (0.7.1)\n",
            "Requirement already satisfied: testpath in /usr/local/lib/python3.7/dist-packages (from nbconvert->notebook>=4.4.1->widgetsnbextension~=3.5.0->ipywidgets==7.6.3->utilpack->retinaface) (0.5.0)\n",
            "Requirement already satisfied: packaging in /usr/local/lib/python3.7/dist-packages (from bleach->nbconvert->notebook>=4.4.1->widgetsnbextension~=3.5.0->ipywidgets==7.6.3->utilpack->retinaface) (21.0)\n",
            "Requirement already satisfied: webencodings in /usr/local/lib/python3.7/dist-packages (from bleach->nbconvert->notebook>=4.4.1->widgetsnbextension~=3.5.0->ipywidgets==7.6.3->utilpack->retinaface) (0.5.1)\n",
            "Requirement already satisfied: joblib>=0.11 in /usr/local/lib/python3.7/dist-packages (from scikit-learn->sklearn==0.0->utilpack->retinaface) (1.0.1)\n",
            "Requirement already satisfied: deepface in /usr/local/lib/python3.7/dist-packages (0.0.68)\n",
            "Requirement already satisfied: keras>=2.2.0 in /usr/local/lib/python3.7/dist-packages (from deepface) (2.6.0)\n",
            "Requirement already satisfied: tqdm>=4.30.0 in /usr/local/lib/python3.7/dist-packages (from deepface) (4.61.2)\n",
            "Requirement already satisfied: numpy>=1.14.0 in /usr/local/lib/python3.7/dist-packages (from deepface) (1.21.2)\n",
            "Requirement already satisfied: tensorflow>=1.9.0 in /usr/local/lib/python3.7/dist-packages (from deepface) (2.1.0)\n",
            "Requirement already satisfied: Flask>=1.1.2 in /usr/local/lib/python3.7/dist-packages (from deepface) (2.0.1)\n",
            "Requirement already satisfied: gdown>=3.10.1 in /usr/local/lib/python3.7/dist-packages (from deepface) (3.13.0)\n",
            "Requirement already satisfied: pandas>=0.23.4 in /usr/local/lib/python3.7/dist-packages (from deepface) (1.1.5)\n",
            "Requirement already satisfied: opencv-python>=3.4.4 in /usr/local/lib/python3.7/dist-packages (from deepface) (4.5.2.54)\n",
            "Requirement already satisfied: retina-face>=0.0.1 in /usr/local/lib/python3.7/dist-packages (from deepface) (0.0.5)\n",
            "Requirement already satisfied: Pillow>=5.2.0 in /usr/local/lib/python3.7/dist-packages (from deepface) (8.3.1)\n",
            "Requirement already satisfied: mtcnn>=0.1.0 in /usr/local/lib/python3.7/dist-packages (from deepface) (0.1.1)\n",
            "Requirement already satisfied: Jinja2>=3.0 in /usr/local/lib/python3.7/dist-packages (from Flask>=1.1.2->deepface) (3.0.1)\n",
            "Requirement already satisfied: Werkzeug>=2.0 in /usr/local/lib/python3.7/dist-packages (from Flask>=1.1.2->deepface) (2.0.1)\n",
            "Requirement already satisfied: click>=7.1.2 in /usr/local/lib/python3.7/dist-packages (from Flask>=1.1.2->deepface) (7.1.2)\n",
            "Requirement already satisfied: itsdangerous>=2.0 in /usr/local/lib/python3.7/dist-packages (from Flask>=1.1.2->deepface) (2.0.1)\n",
            "Requirement already satisfied: requests[socks]>=2.12.0 in /usr/local/lib/python3.7/dist-packages (from gdown>=3.10.1->deepface) (2.25.1)\n",
            "Requirement already satisfied: six in /usr/local/lib/python3.7/dist-packages (from gdown>=3.10.1->deepface) (1.16.0)\n",
            "Requirement already satisfied: filelock in /usr/local/lib/python3.7/dist-packages (from gdown>=3.10.1->deepface) (3.0.12)\n",
            "Requirement already satisfied: MarkupSafe>=2.0 in /usr/local/lib/python3.7/dist-packages (from Jinja2>=3.0->Flask>=1.1.2->deepface) (2.0.1)\n",
            "Requirement already satisfied: python-dateutil>=2.7.3 in /usr/local/lib/python3.7/dist-packages (from pandas>=0.23.4->deepface) (2.8.2)\n",
            "Requirement already satisfied: pytz>=2017.2 in /usr/local/lib/python3.7/dist-packages (from pandas>=0.23.4->deepface) (2018.9)\n",
            "Requirement already satisfied: chardet<5,>=3.0.2 in /usr/local/lib/python3.7/dist-packages (from requests[socks]>=2.12.0->gdown>=3.10.1->deepface) (3.0.4)\n",
            "Requirement already satisfied: certifi>=2017.4.17 in /usr/local/lib/python3.7/dist-packages (from requests[socks]>=2.12.0->gdown>=3.10.1->deepface) (2021.5.30)\n",
            "Requirement already satisfied: urllib3<1.27,>=1.21.1 in /usr/local/lib/python3.7/dist-packages (from requests[socks]>=2.12.0->gdown>=3.10.1->deepface) (1.24.3)\n",
            "Requirement already satisfied: idna<3,>=2.5 in /usr/local/lib/python3.7/dist-packages (from requests[socks]>=2.12.0->gdown>=3.10.1->deepface) (2.10)\n",
            "Requirement already satisfied: PySocks!=1.5.7,>=1.5.6 in /usr/local/lib/python3.7/dist-packages (from requests[socks]>=2.12.0->gdown>=3.10.1->deepface) (1.7.1)\n",
            "Requirement already satisfied: gast==0.2.2 in /usr/local/lib/python3.7/dist-packages (from tensorflow>=1.9.0->deepface) (0.2.2)\n",
            "Requirement already satisfied: wheel>=0.26 in /usr/local/lib/python3.7/dist-packages (from tensorflow>=1.9.0->deepface) (0.37.0)\n",
            "Requirement already satisfied: keras-applications>=1.0.8 in /usr/local/lib/python3.7/dist-packages (from tensorflow>=1.9.0->deepface) (1.0.8)\n",
            "Requirement already satisfied: protobuf>=3.8.0 in /usr/local/lib/python3.7/dist-packages (from tensorflow>=1.9.0->deepface) (3.17.3)\n",
            "Requirement already satisfied: termcolor>=1.1.0 in /usr/local/lib/python3.7/dist-packages (from tensorflow>=1.9.0->deepface) (1.1.0)\n",
            "Requirement already satisfied: absl-py>=0.7.0 in /usr/local/lib/python3.7/dist-packages (from tensorflow>=1.9.0->deepface) (0.12.0)\n",
            "Requirement already satisfied: astor>=0.6.0 in /usr/local/lib/python3.7/dist-packages (from tensorflow>=1.9.0->deepface) (0.8.1)\n",
            "Requirement already satisfied: tensorboard<2.2.0,>=2.1.0 in /usr/local/lib/python3.7/dist-packages (from tensorflow>=1.9.0->deepface) (2.1.1)\n",
            "Requirement already satisfied: tensorflow-estimator<2.2.0,>=2.1.0rc0 in /usr/local/lib/python3.7/dist-packages (from tensorflow>=1.9.0->deepface) (2.1.0)\n",
            "Requirement already satisfied: opt-einsum>=2.3.2 in /usr/local/lib/python3.7/dist-packages (from tensorflow>=1.9.0->deepface) (3.3.0)\n",
            "Requirement already satisfied: wrapt>=1.11.1 in /usr/local/lib/python3.7/dist-packages (from tensorflow>=1.9.0->deepface) (1.12.1)\n",
            "Requirement already satisfied: keras-preprocessing>=1.1.0 in /usr/local/lib/python3.7/dist-packages (from tensorflow>=1.9.0->deepface) (1.1.2)\n",
            "Requirement already satisfied: scipy==1.4.1 in /usr/local/lib/python3.7/dist-packages (from tensorflow>=1.9.0->deepface) (1.4.1)\n",
            "Requirement already satisfied: grpcio>=1.8.6 in /usr/local/lib/python3.7/dist-packages (from tensorflow>=1.9.0->deepface) (1.39.0)\n",
            "Requirement already satisfied: google-pasta>=0.1.6 in /usr/local/lib/python3.7/dist-packages (from tensorflow>=1.9.0->deepface) (0.2.0)\n",
            "Requirement already satisfied: h5py in /usr/local/lib/python3.7/dist-packages (from keras-applications>=1.0.8->tensorflow>=1.9.0->deepface) (2.10.0)\n",
            "Requirement already satisfied: markdown>=2.6.8 in /usr/local/lib/python3.7/dist-packages (from tensorboard<2.2.0,>=2.1.0->tensorflow>=1.9.0->deepface) (3.3.4)\n",
            "Requirement already satisfied: google-auth-oauthlib<0.5,>=0.4.1 in /usr/local/lib/python3.7/dist-packages (from tensorboard<2.2.0,>=2.1.0->tensorflow>=1.9.0->deepface) (0.4.5)\n",
            "Requirement already satisfied: setuptools>=41.0.0 in /usr/local/lib/python3.7/dist-packages (from tensorboard<2.2.0,>=2.1.0->tensorflow>=1.9.0->deepface) (57.4.0)\n",
            "Requirement already satisfied: google-auth<2,>=1.6.3 in /usr/local/lib/python3.7/dist-packages (from tensorboard<2.2.0,>=2.1.0->tensorflow>=1.9.0->deepface) (1.34.0)\n",
            "Requirement already satisfied: rsa<5,>=3.1.4 in /usr/local/lib/python3.7/dist-packages (from google-auth<2,>=1.6.3->tensorboard<2.2.0,>=2.1.0->tensorflow>=1.9.0->deepface) (4.7.2)\n",
            "Requirement already satisfied: cachetools<5.0,>=2.0.0 in /usr/local/lib/python3.7/dist-packages (from google-auth<2,>=1.6.3->tensorboard<2.2.0,>=2.1.0->tensorflow>=1.9.0->deepface) (4.2.2)\n",
            "Requirement already satisfied: pyasn1-modules>=0.2.1 in /usr/local/lib/python3.7/dist-packages (from google-auth<2,>=1.6.3->tensorboard<2.2.0,>=2.1.0->tensorflow>=1.9.0->deepface) (0.2.8)\n",
            "Requirement already satisfied: requests-oauthlib>=0.7.0 in /usr/local/lib/python3.7/dist-packages (from google-auth-oauthlib<0.5,>=0.4.1->tensorboard<2.2.0,>=2.1.0->tensorflow>=1.9.0->deepface) (1.3.0)\n",
            "Requirement already satisfied: importlib-metadata in /usr/local/lib/python3.7/dist-packages (from markdown>=2.6.8->tensorboard<2.2.0,>=2.1.0->tensorflow>=1.9.0->deepface) (4.6.4)\n",
            "Requirement already satisfied: pyasn1<0.5.0,>=0.4.6 in /usr/local/lib/python3.7/dist-packages (from pyasn1-modules>=0.2.1->google-auth<2,>=1.6.3->tensorboard<2.2.0,>=2.1.0->tensorflow>=1.9.0->deepface) (0.4.8)\n",
            "Requirement already satisfied: oauthlib>=3.0.0 in /usr/local/lib/python3.7/dist-packages (from requests-oauthlib>=0.7.0->google-auth-oauthlib<0.5,>=0.4.1->tensorboard<2.2.0,>=2.1.0->tensorflow>=1.9.0->deepface) (3.1.1)\n",
            "Requirement already satisfied: typing-extensions>=3.6.4 in /usr/local/lib/python3.7/dist-packages (from importlib-metadata->markdown>=2.6.8->tensorboard<2.2.0,>=2.1.0->tensorflow>=1.9.0->deepface) (3.7.4.3)\n",
            "Requirement already satisfied: zipp>=0.5 in /usr/local/lib/python3.7/dist-packages (from importlib-metadata->markdown>=2.6.8->tensorboard<2.2.0,>=2.1.0->tensorflow>=1.9.0->deepface) (3.5.0)\n"
          ],
          "name": "stdout"
        }
      ]
    },
    {
      "cell_type": "code",
      "metadata": {
        "id": "tY_wFD3waS6C"
      },
      "source": [
        "# !rm ./*jpg\n",
        "# %rm -rf drive"
      ],
      "execution_count": null,
      "outputs": []
    },
    {
      "cell_type": "code",
      "metadata": {
        "id": "5TvTE0WoVlYV"
      },
      "source": [
        "from pytube import YouTube\n",
        "from pytube.exceptions import RegexMatchError\n",
        "import youtube_dl\n",
        "import dlib\n",
        "from retinaface import RetinaFace\n",
        "from deepface import DeepFace\n",
        "import matplotlib.pyplot as plt\n",
        "from matplotlib.patches import Rectangle\n",
        "import cv2\n",
        "import os\n",
        "import threading\n",
        "import time\n",
        "import torch"
      ],
      "execution_count": null,
      "outputs": []
    },
    {
      "cell_type": "code",
      "metadata": {
        "id": "HwMP93nlXdTY",
        "colab": {
          "base_uri": "https://localhost:8080/"
        },
        "outputId": "3f3897e9-a6e9-4468-ebe4-cfca402d032a"
      },
      "source": [
        "from google.colab import drive\n",
        "drive.mount('/content/drive')"
      ],
      "execution_count": null,
      "outputs": [
        {
          "output_type": "stream",
          "text": [
            "Mounted at /content/drive\n"
          ],
          "name": "stdout"
        }
      ]
    },
    {
      "cell_type": "markdown",
      "metadata": {
        "id": "OMGW_3GxZweU"
      },
      "source": [
        "#Codes"
      ]
    },
    {
      "cell_type": "code",
      "metadata": {
        "id": "ODNBIwBaWOfL"
      },
      "source": [
        "def check_tracker_quality(face_trackers, base_image, quality_thresh_hold=7):\n",
        "    # Update all the trackers and remove the ones for which the update\n",
        "    # indicated the quality was not good enough\n",
        "    fids_to_delete = []\n",
        "    for fid in face_trackers.keys():\n",
        "        trackingQuality = face_trackers[fid].update(base_image)\n",
        "\n",
        "        # If the tracking quality is good enough, we must delete\n",
        "        # this tracker\n",
        "        if trackingQuality < quality_thresh_hold:\n",
        "            fids_to_delete.append(fid)\n",
        "\n",
        "    for fid in fids_to_delete:\n",
        "        print(\"Removing tracker \" + str(fid) + \" from list of trackers\")\n",
        "        del face_trackers[fid]\n",
        "    return face_trackers\n",
        "\n",
        "\n",
        "def create_new_tracker(current_face_id, frame, loc):\n",
        "    print(\"Creating new tracker \" + str(current_face_id))\n",
        "\n",
        "    x, y, w, h = loc\n",
        "    # Create and store the tracker\n",
        "    tracker = dlib.correlation_tracker()\n",
        "    tracker.start_track(frame,\n",
        "                        dlib.rectangle(x - int(w / 4),\n",
        "                                       y - int(h / 4),\n",
        "                                       x + w + int(w / 4),\n",
        "                                       y + h + int(h / 4)))\n",
        "    return tracker"
      ],
      "execution_count": null,
      "outputs": []
    },
    {
      "cell_type": "code",
      "metadata": {
        "id": "VeOW3WBSZ5bE"
      },
      "source": [
        "def do_recognize_person(face_names, fid, face_img):\n",
        "    verified_identity = None\n",
        "    try:\n",
        "        face_img_bgr = cv2.cvtColor(face_img, cv2.COLOR_BGR2RGB)\n",
        "        df = DeepFace.find(face_img_bgr,\n",
        "                           db_path=\"/content/FaceDataBase\",\n",
        "                           enforce_detection=False,\n",
        "                           detector_backend='retinaface',\n",
        "                           model_name='ArcFace',\n",
        "                           model=model,\n",
        "                           distance_metric=\"euclidean_l2\")\n",
        "        print(df)\n",
        "        print()\n",
        "        # filtered_faced = df[df['ArcFace_euclidean_l2'] <= 1]\n",
        "        closest_identity = df.loc[df['ArcFace_euclidean_l2'].idxmin()]\n",
        "        print(closest_identity['identity'])\n",
        "        # verified_identity = closest_identity['identity'].split('/')[-2].split('\\\\')[1]\n",
        "        verified_identity = closest_identity['identity'].split('/')[-2]\n",
        "\n",
        "        print()\n",
        "        print(verified_identity)\n",
        "        del df\n",
        "    except (ValueError, cv2.error):\n",
        "        print('No Face Detected')\n",
        "        # all_faces = RetinaFace.detect_faces(data)\n",
        "        # print(all_faces)\n",
        "        # cv2.imshow('face', face_img)\n",
        "        # cv2.waitKey()\n",
        "\n",
        "    num_of_zeros = 3 - len(str(fid))\n",
        "    if verified_identity is None:\n",
        "        face_names[fid] = {\n",
        "            'name': '{person_id}'.format(person_id=num_of_zeros * '0' + str(fid)),\n",
        "            'detected': False\n",
        "        }\n",
        "    else:\n",
        "        face_names[fid] = {\n",
        "            'name': verified_identity,\n",
        "            'dir': '{person_id}'.format(person_id=verified_identity + '/' + num_of_zeros * '0' + str(fid)),\n",
        "            'detected': True\n",
        "        }\n",
        "\n",
        "\n",
        "def check_existence_of_new_faces(result_list, face_trackers,\n",
        "                                 face_names, frame, current_face_id):\n",
        "    verified_trackers = []\n",
        "    for result in result_list:\n",
        "        x, y, x1, y1 = result['facial_area']\n",
        "        w, h = abs(x1 - x), abs(y1 - y)\n",
        "\n",
        "        # Calculate the center point\n",
        "        x_bar = (x + x1) / 2\n",
        "        y_bar = (y + y1) / 2\n",
        "\n",
        "        # Variable holding information which faceid we\n",
        "        # matched with\n",
        "        matched_fid = None\n",
        "\n",
        "        # Now loop over all the trackers and check if the\n",
        "        # center point of the face is within the box of a\n",
        "        # tracker\n",
        "        for fid in face_trackers.keys():\n",
        "            tracked_position = face_trackers[fid].get_position()\n",
        "            t_x = int(tracked_position.left())\n",
        "            t_y = int(tracked_position.top())\n",
        "            t_w = int(tracked_position.width())\n",
        "            t_h = int(tracked_position.height())\n",
        "\n",
        "            # calculate the center point\n",
        "            t_x_bar = t_x + 0.5 * t_w\n",
        "            t_y_bar = t_y + 0.5 * t_h\n",
        "\n",
        "            # check if the center point of the face is within the\n",
        "            # rectangle of a tracker region. Also, the center point\n",
        "            # of the tracker region must be within the region\n",
        "            # detected as a face. If both of these conditions hold\n",
        "            # we have a match\n",
        "            if ((t_x <= x_bar <= (t_x + t_w)) and\n",
        "                    (t_y <= y_bar <= (t_y + t_h)) and\n",
        "                    (x <= t_x_bar <= (x + w)) and\n",
        "                    (y <= t_y_bar <= (y + h))):\n",
        "                matched_fid = fid\n",
        "                verified_trackers.append(fid)\n",
        "\n",
        "        if matched_fid is None:\n",
        "            loc = [x, y, w, h]\n",
        "            tracker = create_new_tracker(current_face_id, frame, loc)\n",
        "\n",
        "            face_trackers[current_face_id] = tracker\n",
        "            verified_trackers.append(current_face_id)\n",
        "            # Start a new thread that is used to simulate\n",
        "            # face recognition. This is not yet implemented in this\n",
        "            # version :)\n",
        "            # t = threading.Thread(target=do_recognize_person,\n",
        "            #                      args=(face_names, current_face_id))\n",
        "            # t.start()\n",
        "            # Increase the currentFaceID counter\n",
        "            current_face_id += 1\n",
        "\n",
        "    # Remove the trackers that are not in the second detection\n",
        "    all_fids = face_trackers.copy().keys()\n",
        "    for fid in all_fids:\n",
        "        if fid not in verified_trackers:\n",
        "            print(\"Removing tracker \" + str(fid) +\n",
        "                  \" from list of trackers because of not appearing in the second detection\")\n",
        "            del face_trackers[fid]\n",
        "    del all_fids\n",
        "            \n",
        "    return current_face_id, face_trackers"
      ],
      "execution_count": null,
      "outputs": []
    },
    {
      "cell_type": "code",
      "metadata": {
        "id": "x3j-hgcLZ-pU"
      },
      "source": [
        "def plot_image_with_boxes(frame, face_trackers, face_name, num_of_digits,\n",
        "                          frame_number, output_file_name, face_shapes=None, save_image=True):\n",
        "    face_img = frame.copy()\n",
        "    for fid in face_trackers.keys():\n",
        "        tracked_position = face_trackers[fid].get_position()\n",
        "        t_x = int(tracked_position.left())\n",
        "        t_y = int(tracked_position.top())\n",
        "        t_w = int(tracked_position.width())\n",
        "        t_h = int(tracked_position.height())\n",
        "\n",
        "        # face = frame[t_y:t_y + t_h, t_x:t_x + t_w]\n",
        "        face = face_img[t_y:t_y + t_h, t_x:t_x + t_w]\n",
        "        if face_shapes is not None:\n",
        "            face = cv2.resize(face, face_shapes, fx=0, fy=0, interpolation=cv2.INTER_CUBIC)\n",
        "\n",
        "        if fid in face_name.keys():\n",
        "            box_name = face_name[fid]['name']\n",
        "\n",
        "        else:\n",
        "            box_name = 'Detecting...'\n",
        "            do_recognize_person(face_name, fid, face)\n",
        "        if save_image:\n",
        "            if face_name[fid]['detected']:\n",
        "                directory = '/'.join(output_file_name) + '/labeled/' + face_name[fid]['dir']\n",
        "                id_person = face_name[fid]['dir'].split('/')[1]\n",
        "            else:\n",
        "                directory = '/'.join(output_file_name) + '/unlabeled/' + face_name[fid]['name']\n",
        "                id_person = face_name[fid]['name']\n",
        "            # directory = output_file_name + '\\\\unlabeled\\\\' + face_name[fid]\n",
        "            if not os.path.exists(directory):\n",
        "                os.makedirs(directory)\n",
        "\n",
        "            num_of_zeros = num_of_digits - len(str(frame_number))\n",
        "            img_name = directory + '/{source}_{n_video}_{frameNumber}_{id_p}_{x}_{y}_{h}_{w}.jpg'.format(\n",
        "                source=output_file_name[-2], n_video=output_file_name[-1]\n",
        "                , frameNumber=num_of_zeros * '0' + str(frame_number)\n",
        "                , id_p=id_person, x=t_x, y=t_y, h=t_h, w=t_w)\n",
        "\n",
        "            try:\n",
        "                cv2.imwrite(img_name, face)\n",
        "            except cv2.error:\n",
        "                pass\n",
        "\n",
        "        cv2.rectangle(frame, (t_x, t_y),\n",
        "                      (t_x + t_w, t_y + t_h),\n",
        "                      (0, 0, 255), 2)\n",
        "        cv2.putText(frame, box_name, (int(t_x + t_w / 2), int(t_y)),\n",
        "                    cv2.FONT_HERSHEY_SIMPLEX,\n",
        "                    0.5, (204, 204, 0), 2)"
      ],
      "execution_count": null,
      "outputs": []
    },
    {
      "cell_type": "code",
      "metadata": {
        "id": "ZBLkYTH4aCgi"
      },
      "source": [
        "\n",
        "def face_tracking(path, output_file_name, detection_quality_tsh=7, save_image=True, show_result=True,\n",
        "                  face_detection_tsh=10, resize_faces_shape=None, desired_time=None):\n",
        "    # Path to video file\n",
        "    vidObj = cv2.VideoCapture(path)\n",
        "\n",
        "    if show_result:\n",
        "        cv2.namedWindow(\"Face-Tracking\", cv2.WINDOW_AUTOSIZE)  ###make window for image or video\n",
        "\n",
        "        # Start the window thread for the two windows we are using\n",
        "        cv2.startWindowThread()\n",
        "\n",
        "    # Get frame/second of the video\n",
        "    frames_per_second = int(vidObj.get(cv2.CAP_PROP_FPS))\n",
        "    print('frames/second:', frames_per_second)\n",
        "\n",
        "    if desired_time is None:\n",
        "        frame_threshold = int(vidObj.get(cv2.CAP_PROP_FRAME_COUNT))\n",
        "    else:\n",
        "        frame_threshold = int(desired_time * 60 * frames_per_second)\n",
        "\n",
        "    number_of_all_frames_digits = len(str(frame_threshold))\n",
        "\n",
        "    # Used as counter variable\n",
        "    frame_counter = 0\n",
        "    current_face_id = 1\n",
        "\n",
        "    # Variables holding the correlation trackers and the name per faceid\n",
        "    face_trackers = {}\n",
        "    face_names = {}\n",
        "\n",
        "    while vidObj.isOpened() and frame_counter < frame_threshold:\n",
        "        # vidObj object calls read\n",
        "        # function extract frames\n",
        "        success, image = vidObj.read()\n",
        "\n",
        "        if success:\n",
        "            # resize_frame = cv2.resize(image, (1280, 720), fx=0, fy=0, interpolation=cv2.INTER_CUBIC)\n",
        "            resize_frame = image\n",
        "            face_trackers = check_tracker_quality(face_trackers, resize_frame,\n",
        "                                                  quality_thresh_hold=detection_quality_tsh)\n",
        "\n",
        "            # Every 10 frames, we will have to determine which faces#### is that 10 frames or face_detection_tsh times\n",
        "            # are present in the frame\n",
        "            if (frame_counter % face_detection_tsh) == 0:\n",
        "                all_faces = RetinaFace.detect_faces(resize_frame)\n",
        "                if type(all_faces) == dict:  ####what is differente in type of faces\n",
        "                    current_face_id, face_trackers = check_existence_of_new_faces(all_faces.values(), face_trackers,\n",
        "                                                                                  face_names,\n",
        "                                                                                  resize_frame, current_face_id)\n",
        "\n",
        "            frame_counter += 1\n",
        "            plot_image_with_boxes(resize_frame, face_trackers, face_names, number_of_all_frames_digits,\n",
        "                                  frame_counter, output_file_name, face_shapes=resize_faces_shape, save_image=save_image)\n",
        "            if show_result:\n",
        "                cv2.imshow('Face-Tracking', resize_frame)\n",
        "                # Press Q on keyboard to  exit\n",
        "                if cv2.waitKey(25) & 0xFF == ord('q'):\n",
        "                    break\n",
        "\n",
        "        elif (not success) or (frame_counter == frame_threshold):\n",
        "            vidObj.release()\n",
        "\n",
        "    if show_result:\n",
        "        # Destroy any OpenCV windows and exit the application\n",
        "        cv2.destroyAllWindows()"
      ],
      "execution_count": null,
      "outputs": []
    },
    {
      "cell_type": "code",
      "metadata": {
        "id": "QFq_YCZQVp4Z"
      },
      "source": [
        "def loadFromYT(link, name, output):\n",
        "  # link = 'https://www.youtube.com/watch?v=o8tXSiKW-h8'\n",
        "  try:\n",
        "    yt = YouTube(link)\n",
        "    stream = yt.streams.filter(progressive=True, file_extension='mp4').order_by('resolution').desc().first()\n",
        "    stream.download(filename=name, output_path=output)\n",
        "  except RegexMatchError:\n",
        "    # 137: 1080p\n",
        "    # 136: 720p\n",
        "    # 135: 480p\n",
        "    # 134: 360p\n",
        "    # 133: 240\n",
        "    ydl_opts = {\n",
        "      # 'format': 'bestvideo/best',\n",
        "      'format':'136',\n",
        "      'outtmpl': f'{output}/{name}',\n",
        "      }\n",
        "    with youtube_dl.YoutubeDL(ydl_opts) as ydl:\n",
        "        ydl.download([link])"
      ],
      "execution_count": null,
      "outputs": []
    },
    {
      "cell_type": "markdown",
      "metadata": {
        "id": "8d2cUCXDzd_s"
      },
      "source": [
        "# Download The Face Dataset"
      ]
    },
    {
      "cell_type": "code",
      "metadata": {
        "id": "5r7_kD4p5Tva"
      },
      "source": [
        "# import shutil\n",
        "\n",
        "# shutil.rmtree('frames')"
      ],
      "execution_count": null,
      "outputs": []
    },
    {
      "cell_type": "code",
      "metadata": {
        "colab": {
          "base_uri": "https://localhost:8080/"
        },
        "id": "VMlr9q7vukH5",
        "outputId": "f922f6ce-2339-487e-8279-938d0f1dcd0e"
      },
      "source": [
        "\n",
        "# !apt install subversion\n",
        "!npx degit https://github.com/arashHarirpoosh/FaceRecognition/FaceDataBase FaceDataBase --force\n"
      ],
      "execution_count": null,
      "outputs": [
        {
          "output_type": "stream",
          "text": [
            "\u001b[K\u001b[?25hnpx: installed 1 in 1.949s\n",
            "\u001b[36m> cloned \u001b[1marashHarirpoosh/FaceRecognition\u001b[22m#\u001b[1mHEAD\u001b[22m to FaceDataBase\u001b[39m\n"
          ],
          "name": "stdout"
        }
      ]
    },
    {
      "cell_type": "markdown",
      "metadata": {
        "id": "FYKXCRF5bB2b"
      },
      "source": [
        "#Main"
      ]
    },
    {
      "cell_type": "code",
      "metadata": {
        "colab": {
          "base_uri": "https://localhost:8080/"
        },
        "id": "qQ8ygWKDbAKC",
        "outputId": "878881d0-56bc-44d4-8a58-8988b67dccdb"
      },
      "source": [
        "if __name__ == '__main__':\n",
        "    print('dlib version:', dlib.__version__)\n",
        "\n",
        "    model = DeepFace.build_model('ArcFace')\n",
        "\n",
        "    base_addr = 'Videos'\n",
        "\n",
        "    # num_of_sources = len(os.listdir(base_addr))\n",
        "    # source_digits = len(str(num_of_sources))\n",
        "    source_digits = 2\n",
        "\n",
        "    # selected_channels = ['1', '2']\n",
        "    selected_channels = ['1']\n",
        "    selected_videos = [4, 5]\n",
        "    # 1:CNN, 2:BBC\n",
        "    videos = {\n",
        "        '1':\n",
        "              {\n",
        "                  '1': 'https://www.youtube.com/watch?v=CmCp6Z54GYU',\n",
        "                  # '2':'https://youtu.be/pJlnxbO5N2g',\n",
        "                  # '3':'https://youtu.be/e0sGuSaGvV0',\n",
        "                  # '4': 'https://youtu.be/ZO_UqxwasO4',\n",
        "                  # '5':'https://youtu.be/fx2W1Jh4kA0',\n",
        "                  # '6': 'https://www.youtube.com/watch?v=6y877A9IA4U',\n",
        "                  # '7':'https://www.youtube.com/watch?v=Rli9ZRvemh0',\n",
        "                  # '8':'https://www.youtube.com/watch?v=cQAH7d-k068',\n",
        "                  # '9':'',\n",
        "\n",
        "\n",
        "              }\n",
        "        # '2':\n",
        "        #       {\n",
        "        #           '1':'https://www.youtube.com/watch?v=sXQLYOHihUg',\n",
        "                  \n",
        "        #       }\n",
        "    }\n",
        "\n",
        "    for channels, videos in videos.items():\n",
        "        file_digits = 3\n",
        "        root = 'Videos/{c}'.format(c=channels)\n",
        "        for file_number, link in videos.items():\n",
        "          file_name = file_number+'.mp4'\n",
        "          loadFromYT(link=link, name=file_name, output=root)\n",
        "          root_list = root.split('/')\n",
        "          root_list[-2] = 'drive/MyDrive/Frames'\n",
        "          # root_list[-2] = 'frames'\n",
        "          source_number = root_list[-1]\n",
        "          root_list[-1] = (source_digits - len(source_number)) * '0' + source_number\n",
        "          root_list.append((file_digits - len(file_number)) * '0' + file_number)\n",
        "          p = f'{root}/{file_name}'\n",
        "          \n",
        "          print(p)\n",
        "          print(root_list)\n",
        "\n",
        "          start_time = time.time()\n",
        "          face_tracking(\n",
        "              path=p,\n",
        "              output_file_name=root_list,\n",
        "              detection_quality_tsh=7,\n",
        "              face_detection_tsh=40,\n",
        "              # resize_faces_shape=(300, 400),\n",
        "              resize_faces_shape=None,\n",
        "              save_image=True,\n",
        "              show_result=False,\n",
        "              desired_time=1\n",
        "          )\n",
        "\n",
        "          elapsed_time = time.time() - start_time\n",
        "          time_report = f'Finished in {elapsed_time} seconds, or {elapsed_time / 60} minutes'\n",
        "          print(time_report)\n",
        "          file = open(r\"{folder}/time.txt\".format(folder='/'.join(root_list)), \"w+\")\n",
        "          file.write(time_report)\n",
        "          file.close()\n"
      ],
      "execution_count": null,
      "outputs": [
        {
          "output_type": "stream",
          "text": [
            "dlib version: 19.18.0\n",
            "arcface_weights.h5  will be downloaded to  /root/.deepface/weights/arcface_weights.h5\n"
          ],
          "name": "stdout"
        },
        {
          "output_type": "stream",
          "text": [
            "Downloading...\n",
            "From: https://github.com/serengil/deepface_models/releases/download/v1.0/arcface_weights.h5\n",
            "To: /root/.deepface/weights/arcface_weights.h5\n",
            "100%|██████████| 137M/137M [00:04<00:00, 30.0MB/s]\n"
          ],
          "name": "stderr"
        },
        {
          "output_type": "stream",
          "text": [
            "Videos/1/3.mp4\n",
            "['frames', '01', '003']\n",
            "frames/second: 29\n",
            "retinaface.h5 will be downloaded from the url https://github.com/serengil/deepface_models/releases/download/v1.0/retinaface.h5\n"
          ],
          "name": "stdout"
        },
        {
          "output_type": "stream",
          "text": [
            "Downloading...\n",
            "From: https://github.com/serengil/deepface_models/releases/download/v1.0/retinaface.h5\n",
            "To: /root/.deepface/weights/retinaface.h5\n",
            "100%|██████████| 119M/119M [00:02<00:00, 47.1MB/s]\n"
          ],
          "name": "stderr"
        },
        {
          "output_type": "stream",
          "text": [
            "Creating new tracker 1\n",
            "Creating new tracker 2\n",
            "WARNING: Representations for images in  FaceDataBase  folder were previously stored in  representations_arcface.pkl . If you added new instances after this file creation, then please delete this file and call find function again. It will create it again.\n",
            "There are  9  representations found in  representations_arcface.pkl\n",
            "find function lasts  11.239726543426514  seconds\n",
            "Empty DataFrame\n",
            "Columns: [identity, ArcFace_euclidean_l2]\n",
            "Index: []\n",
            "\n",
            "No Face Detected\n",
            "WARNING: Representations for images in  FaceDataBase  folder were previously stored in  representations_arcface.pkl . If you added new instances after this file creation, then please delete this file and call find function again. It will create it again.\n",
            "There are  9  representations found in  representations_arcface.pkl\n",
            "find function lasts  4.228426218032837  seconds\n",
            "Empty DataFrame\n",
            "Columns: [identity, ArcFace_euclidean_l2]\n",
            "Index: []\n",
            "\n",
            "No Face Detected\n",
            "Removing tracker 1 from list of trackers\n",
            "Creating new tracker 3\n",
            "WARNING: Representations for images in  FaceDataBase  folder were previously stored in  representations_arcface.pkl . If you added new instances after this file creation, then please delete this file and call find function again. It will create it again.\n",
            "There are  9  representations found in  representations_arcface.pkl\n",
            "find function lasts  4.370243310928345  seconds\n",
            "                                            identity  ArcFace_euclidean_l2\n",
            "0  A:/PYTHON/FinalBachelorProject/FaceDataBase\\An...              1.109673\n",
            "\n",
            "A:/PYTHON/FinalBachelorProject/FaceDataBase\\Anderson_Cooper/Anderson_Cooper1.jpg\n",
            "\n",
            "Anderson_Cooper\n",
            "Removing tracker 2 from list of trackers\n",
            "Removing tracker 3 from list of trackers\n",
            "Creating new tracker 4\n",
            "WARNING: Representations for images in  FaceDataBase  folder were previously stored in  representations_arcface.pkl . If you added new instances after this file creation, then please delete this file and call find function again. It will create it again.\n",
            "There are  9  representations found in  representations_arcface.pkl\n",
            "find function lasts  4.412344694137573  seconds\n",
            "Empty DataFrame\n",
            "Columns: [identity, ArcFace_euclidean_l2]\n",
            "Index: []\n",
            "\n",
            "No Face Detected\n",
            "Finished in 999.4547233581543 seconds, or 16.657578722635904 minutes\n"
          ],
          "name": "stdout"
        }
      ]
    },
    {
      "cell_type": "code",
      "metadata": {
        "id": "Iuldrah3fW_9"
      },
      "source": [
        ""
      ],
      "execution_count": null,
      "outputs": []
    }
  ]
}